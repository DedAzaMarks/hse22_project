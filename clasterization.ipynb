{
 "cells": [
  {
   "cell_type": "code",
   "execution_count": 5,
   "id": "cf46c725-3bda-44d1-a36b-db12e681de3b",
   "metadata": {},
   "outputs": [
    {
     "name": "stdout",
     "output_type": "stream",
     "text": [
      "./data/chengduensis_protein.faa\n",
      "./data/ludwigii_protein.faa\n",
      "./data/oligotrophicus_protein.faa\n",
      "./data/sichuanensis_protein.faa\n",
      "./data/soli_protein.faa\n"
     ]
    }
   ],
   "source": [
    "!ls -1 ./data/*.faa"
   ]
  },
  {
   "cell_type": "code",
   "execution_count": 6,
   "id": "6b163c07-35d5-4238-bec5-c4018cd507a6",
   "metadata": {},
   "outputs": [
    {
     "name": "stdout",
     "output_type": "stream",
     "text": [
      "Running `brew update --auto-update`...\n",
      "\u001b[34m==>\u001b[0m \u001b[1mAuto-updated Homebrew!\u001b[0m\n",
      "Updated 2 taps (homebrew/core and homebrew/cask).\n",
      "\n",
      "\u001b[34m==>\u001b[0m \u001b[1mDownloading https://ghcr.io/v2/homebrew/core/diamond/manifests/2.0.15\u001b[0m\n",
      "######################################################################## 100.0%\n",
      "\u001b[34m==>\u001b[0m \u001b[1mDownloading https://ghcr.io/v2/homebrew/core/diamond/blobs/sha256:63dd3620cc\u001b[0m\n",
      "\u001b[34m==>\u001b[0m \u001b[1mDownloading from https://pkg-containers.githubusercontent.com/ghcr1/blobs/sh\u001b[0m\n",
      "######################################################################## 100.0%\n",
      "\u001b[34m==>\u001b[0m \u001b[1mDownloading https://ghcr.io/v2/homebrew/core/isl/manifests/0.24\u001b[0m\n",
      "######################################################################## 100.0%\n",
      "\u001b[34m==>\u001b[0m \u001b[1mDownloading https://ghcr.io/v2/homebrew/core/isl/blobs/sha256:6eca22a381c05a\u001b[0m\n",
      "\u001b[34m==>\u001b[0m \u001b[1mDownloading from https://pkg-containers.githubusercontent.com/ghcr1/blobs/sh\u001b[0m\n",
      "######################################################################## 100.0%\n",
      "\u001b[34m==>\u001b[0m \u001b[1mDownloading https://ghcr.io/v2/homebrew/core/libmpc/manifests/1.2.1\u001b[0m\n",
      "######################################################################## 100.0%\n",
      "\u001b[34m==>\u001b[0m \u001b[1mDownloading https://ghcr.io/v2/homebrew/core/libmpc/blobs/sha256:b9984a72544\u001b[0m\n",
      "\u001b[34m==>\u001b[0m \u001b[1mDownloading from https://pkg-containers.githubusercontent.com/ghcr1/blobs/sh\u001b[0m\n",
      "######################################################################## 100.0%\n",
      "\u001b[34m==>\u001b[0m \u001b[1mDownloading https://ghcr.io/v2/homebrew/core/gcc/manifests/11.3.0_1-1\u001b[0m\n",
      "######################################################################## 100.0%\n",
      "\u001b[34m==>\u001b[0m \u001b[1mDownloading https://ghcr.io/v2/homebrew/core/gcc/blobs/sha256:5103a655542df0\u001b[0m\n",
      "\u001b[34m==>\u001b[0m \u001b[1mDownloading from https://pkg-containers.githubusercontent.com/ghcr1/blobs/sh\u001b[0m\n",
      "######################################################################## 100.0%\n",
      "\u001b[34m==>\u001b[0m \u001b[1mDownloading https://ghcr.io/v2/homebrew/core/openblas/manifests/0.3.20\u001b[0m\n",
      "######################################################################## 100.0%\n",
      "\u001b[34m==>\u001b[0m \u001b[1mDownloading https://ghcr.io/v2/homebrew/core/openblas/blobs/sha256:64e8434a8\u001b[0m\n",
      "\u001b[34m==>\u001b[0m \u001b[1mDownloading from https://pkg-containers.githubusercontent.com/ghcr1/blobs/sh\u001b[0m\n",
      "######################################################################## 100.0%\n",
      "\u001b[34m==>\u001b[0m \u001b[1mDownloading https://ghcr.io/v2/homebrew/core/proteinortho/manifests/6.1.0\u001b[0m\n",
      "######################################################################## 100.0%\n",
      "\u001b[34m==>\u001b[0m \u001b[1mDownloading https://ghcr.io/v2/homebrew/core/proteinortho/blobs/sha256:180ab\u001b[0m\n",
      "\u001b[34m==>\u001b[0m \u001b[1mDownloading from https://pkg-containers.githubusercontent.com/ghcr1/blobs/sh\u001b[0m\n",
      "######################################################################## 100.0%\n",
      "\u001b[32m==>\u001b[0m \u001b[1mInstalling dependencies for proteinortho: \u001b[32mdiamond\u001b[39m, \u001b[32misl\u001b[39m, \u001b[32mlibmpc\u001b[39m, \u001b[32mgcc\u001b[39m and \u001b[32mopenblas\u001b[39m\u001b[0m\n",
      "\u001b[32m==>\u001b[0m \u001b[1mInstalling proteinortho dependency: \u001b[32mdiamond\u001b[39m\u001b[0m\n",
      "\u001b[34m==>\u001b[0m \u001b[1mPouring diamond--2.0.15.monterey.bottle.tar.gz\u001b[0m\n",
      "🍺  /usr/local/Cellar/diamond/2.0.15: 5 files, 4.7MB\n",
      "\u001b[32m==>\u001b[0m \u001b[1mInstalling proteinortho dependency: \u001b[32misl\u001b[39m\u001b[0m\n",
      "\u001b[34m==>\u001b[0m \u001b[1mPouring isl--0.24.monterey.bottle.tar.gz\u001b[0m\n",
      "🍺  /usr/local/Cellar/isl/0.24: 73 files, 7.1MB\n",
      "\u001b[32m==>\u001b[0m \u001b[1mInstalling proteinortho dependency: \u001b[32mlibmpc\u001b[39m\u001b[0m\n",
      "\u001b[34m==>\u001b[0m \u001b[1mPouring libmpc--1.2.1.monterey.bottle.tar.gz\u001b[0m\n",
      "🍺  /usr/local/Cellar/libmpc/1.2.1: 12 files, 407.4KB\n",
      "\u001b[32m==>\u001b[0m \u001b[1mInstalling proteinortho dependency: \u001b[32mgcc\u001b[39m\u001b[0m\n",
      "\u001b[34m==>\u001b[0m \u001b[1mPouring gcc--11.3.0_1.monterey.bottle.1.tar.gz\u001b[0m\n",
      "🍺  /usr/local/Cellar/gcc/11.3.0_1: 2,148 files, 330.1MB\n",
      "\u001b[32m==>\u001b[0m \u001b[1mInstalling proteinortho dependency: \u001b[32mopenblas\u001b[39m\u001b[0m\n",
      "\u001b[34m==>\u001b[0m \u001b[1mPouring openblas--0.3.20.monterey.bottle.tar.gz\u001b[0m\n",
      "🍺  /usr/local/Cellar/openblas/0.3.20: 23 files, 128.6MB\n",
      "\u001b[32m==>\u001b[0m \u001b[1mInstalling \u001b[32mproteinortho\u001b[39m\u001b[0m\n",
      "\u001b[34m==>\u001b[0m \u001b[1mPouring proteinortho--6.1.0.monterey.bottle.tar.gz\u001b[0m\n",
      "🍺  /usr/local/Cellar/proteinortho/6.1.0: 24 files, 1MB\n",
      "\u001b[34m==>\u001b[0m \u001b[1mRunning `brew cleanup proteinortho`...\u001b[0m\n",
      "Disable this behaviour by setting HOMEBREW_NO_INSTALL_CLEANUP.\n",
      "Hide these hints with HOMEBREW_NO_ENV_HINTS (see `man brew`).\n"
     ]
    }
   ],
   "source": [
    "!brew install proteinortho"
   ]
  },
  {
   "cell_type": "code",
   "execution_count": 8,
   "id": "0666b420-b45d-4bb6-8ca1-77b8634c46a6",
   "metadata": {},
   "outputs": [
    {
     "name": "stdout",
     "output_type": "stream",
     "text": [
      "*****************************************************************\n",
      "\u001b[1;32mProteinortho\u001b[0m with PoFF version 6.1.0 - An orthology detection tool\n",
      "*****************************************************************\n",
      "Using 12 CPU threads, Detected 'diamond' version 2.0.15\n",
      "Checking input files.\n",
      "Checking ./data/chengduensis_protein.faa... ok\n",
      "Checking ./data/ludwigii_protein.faa... ok\n",
      "Checking ./data/oligotrophicus_protein.faa... ok\n",
      "Checking ./data/sichuanensis_protein.faa... ok\n",
      "Checking ./data/soli_protein.faa... ok\n",
      "\n",
      "\u001b[1;32m**Step 1**\u001b[0m\n",
      "Generating indices.\n",
      "Building database for './data/chengduensis_protein.faa'\t(4739 sequences)\n",
      "Building database for './data/soli_protein.faa'\t(4604 sequences)\n",
      "Building database for './data/ludwigii_protein.faa'\t(4524 sequences)\n",
      "Building database for './data/oligotrophicus_protein.faa'\t(4331 sequences)\n",
      "Building database for './data/sichuanensis_protein.faa'\t(4331 sequences)\n",
      "\n",
      "\u001b[1;32m**Step 2**\u001b[0m using diamond \n",
      "Running blast analysis: 100% (10/10)                                           \n",
      "[OUTPUT] -> written to myproject.blast-graph\n",
      "\n",
      "\u001b[1;32m**Step 3**\u001b[0m\n",
      "Clustering by similarity (Proteinortho mode) using up to 16384 MB of memory (default value, command 'free' not found) and 12 cpu core(s). Please wait...\n",
      "[OUTPUT] -> Orthologous groups are written to myproject.proteinortho.tsv\n",
      "You can extract the fasta files of each orthology group with\n",
      "proteinortho_grab_proteins.pl -tofiles myproject.proteinortho.tsv './data/chengduensis_protein.faa' './data/soli_protein.faa' './data/ludwigii_protein.faa' './data/oligotrophicus_protein.faa' './data/sichuanensis_protein.faa'\n",
      " (Careful: This will generate a file foreach line in the file myproject.proteinortho.tsv).\n",
      "[OUTPUT] -> Orthologous pairs are written to myproject.proteinortho-graph\n",
      "# myproject.proteinortho.tsv statistics:\n",
      "# species-antipercentile (groups that contains at least p% species):\n",
      "# p\tspecies\tgroups\tgenes in groups\n",
      "0%\t0\t4688 (100%)\t20607 (100%)\t\n",
      "20%\t1\t4688 (100%)\t20607 (100%)\t\n",
      "40%\t2\t4687 (99.97%)\t20606 (99.99%)\t\n",
      "60%\t3\t4092 (87.28%)\t19404 (94.16%)\t\n",
      "80%\t4\t3701 (78.94%)\t18205 (88.34%)\t\n",
      "100%\t5\t3380 (72.09%)\t16912 (82.06%)\t\n",
      "# NOTE: p=100% correspond to the core proteome and p=0% to all groups\n",
      "# groups that contains only one species:\n",
      "single\t5\t1 (0.02%)\t1 (0%)\t\n",
      "# number of groups for each input species:\n",
      "oligotrophicus_protein.faa\t4317\t92.08%\n",
      "sichuanensis_protein.faa\t4317\t92.08%\n",
      "ludwigii_protein.faa\t4055\t86.49%\n",
      "chengduensis_protein.faa\t3959\t84.44%\n",
      "soli_protein.faa\t3900\t83.19%\n",
      "\n",
      "[OUTPUT] -> Summary is written to myproject.proteinortho-graph.summary\n",
      "[OUTPUT] -> Orthologous groups are written to myproject.proteinortho.html\n",
      "[OUTPUT] -> You can extract an OrthoXML (v0.3) version of the orthology group output using:\n",
      "proteinortho2xml.pl myproject.proteinortho.tsv >myproject.proteinortho.tsv.xml\n",
      "\n",
      "\n",
      "\u001b[1;32mAll finished.\u001b[0m\n",
      "CPU times: user 2.35 s, sys: 895 ms, total: 3.24 s\n",
      "Wall time: 1min 39s\n"
     ]
    }
   ],
   "source": [
    "time !proteinortho  -cpus=12 ./data/chengduensis_protein.faa ./data/ludwigii_protein.faa ./data/oligotrophicus_protein.faa ./data/sichuanensis_protein.faa ./data/soli_protein.faa"
   ]
  },
  {
   "cell_type": "code",
   "execution_count": null,
   "id": "ce74bfd8-b3a2-49b6-89f5-3d9cd4d73be2",
   "metadata": {},
   "outputs": [],
   "source": []
  }
 ],
 "metadata": {
  "kernelspec": {
   "display_name": "Python 3 (ipykernel)",
   "language": "python",
   "name": "python3"
  },
  "language_info": {
   "codemirror_mode": {
    "name": "ipython",
    "version": 3
   },
   "file_extension": ".py",
   "mimetype": "text/x-python",
   "name": "python",
   "nbconvert_exporter": "python",
   "pygments_lexer": "ipython3",
   "version": "3.8.9"
  }
 },
 "nbformat": 4,
 "nbformat_minor": 5
}
